{
 "cells": [
  {
   "cell_type": "code",
   "execution_count": 69,
   "metadata": {},
   "outputs": [
    {
     "data": {
      "text/html": [
       "<div>\n",
       "<style scoped>\n",
       "    .dataframe tbody tr th:only-of-type {\n",
       "        vertical-align: middle;\n",
       "    }\n",
       "\n",
       "    .dataframe tbody tr th {\n",
       "        vertical-align: top;\n",
       "    }\n",
       "\n",
       "    .dataframe thead th {\n",
       "        text-align: right;\n",
       "    }\n",
       "</style>\n",
       "<table border=\"1\" class=\"dataframe\">\n",
       "  <thead>\n",
       "    <tr style=\"text-align: right;\">\n",
       "      <th></th>\n",
       "      <th>location</th>\n",
       "      <th>title</th>\n",
       "      <th>text</th>\n",
       "      <th>apply_count</th>\n",
       "      <th>test_task_link</th>\n",
       "      <th>salary</th>\n",
       "      <th>year_of_experience</th>\n",
       "      <th>recruiter</th>\n",
       "      <th>employee</th>\n",
       "      <th>skills</th>\n",
       "      <th>createdAt</th>\n",
       "    </tr>\n",
       "  </thead>\n",
       "  <tbody>\n",
       "    <tr>\n",
       "      <th>0</th>\n",
       "      <td>nan</td>\n",
       "      <td>NaN</td>\n",
       "      <td>NaN</td>\n",
       "      <td>NaN</td>\n",
       "      <td>NaN</td>\n",
       "      <td>NaN</td>\n",
       "      <td>NaN</td>\n",
       "      <td>$oid</td>\n",
       "      <td>NaN</td>\n",
       "      <td>NaN</td>\n",
       "      <td>$date</td>\n",
       "    </tr>\n",
       "    <tr>\n",
       "      <th>1</th>\n",
       "      <td>nan</td>\n",
       "      <td>NaN</td>\n",
       "      <td>NaN</td>\n",
       "      <td>NaN</td>\n",
       "      <td>NaN</td>\n",
       "      <td>NaN</td>\n",
       "      <td>NaN</td>\n",
       "      <td>NaN</td>\n",
       "      <td>NaN</td>\n",
       "      <td>NaN</td>\n",
       "      <td>$numberLong</td>\n",
       "    </tr>\n",
       "    <tr>\n",
       "      <th>2</th>\n",
       "      <td>nan</td>\n",
       "      <td>PHP Laravel or Codeigniter Trainees Hiring(App...</td>\n",
       "      <td>A global company with an R&amp;D office in Kyiv, U...</td>\n",
       "      <td>0.0</td>\n",
       "      <td>NaN</td>\n",
       "      <td>35370.0</td>\n",
       "      <td>1.0</td>\n",
       "      <td>662cf32332f07693975ed74c</td>\n",
       "      <td>NaN</td>\n",
       "      <td>php,laravel,codeigniter</td>\n",
       "      <td>1703164229591</td>\n",
       "    </tr>\n",
       "    <tr>\n",
       "      <th>3</th>\n",
       "      <td>nan</td>\n",
       "      <td>IT PROFESSIONAL</td>\n",
       "      <td>A global company with an R&amp;D office in Kyiv, U...</td>\n",
       "      <td>0.0</td>\n",
       "      <td>NaN</td>\n",
       "      <td>95198.0</td>\n",
       "      <td>1.0</td>\n",
       "      <td>662cf32332f07693975ed74c</td>\n",
       "      <td>NaN</td>\n",
       "      <td>azure data factory oracle soa rpa salesforce d...</td>\n",
       "      <td>1687740181461</td>\n",
       "    </tr>\n",
       "    <tr>\n",
       "      <th>4</th>\n",
       "      <td>харківська обл., ізюмський р-н, сщ.першотравневе</td>\n",
       "      <td>Full Stack Developer-PHP ( Lead )</td>\n",
       "      <td>A global company with an R&amp;D office in Kyiv, U...</td>\n",
       "      <td>0.0</td>\n",
       "      <td>NaN</td>\n",
       "      <td>55667.0</td>\n",
       "      <td>5.0</td>\n",
       "      <td>662cf32332f07693975ed74c</td>\n",
       "      <td>NaN</td>\n",
       "      <td>php,codeigniter,php laravel</td>\n",
       "      <td>1714073570511</td>\n",
       "    </tr>\n",
       "  </tbody>\n",
       "</table>\n",
       "</div>"
      ],
      "text/plain": [
       "                                           location  \\\n",
       "0                                               nan   \n",
       "1                                               nan   \n",
       "2                                               nan   \n",
       "3                                               nan   \n",
       "4  харківська обл., ізюмський р-н, сщ.першотравневе   \n",
       "\n",
       "                                               title  \\\n",
       "0                                                NaN   \n",
       "1                                                NaN   \n",
       "2  PHP Laravel or Codeigniter Trainees Hiring(App...   \n",
       "3                                    IT PROFESSIONAL   \n",
       "4                  Full Stack Developer-PHP ( Lead )   \n",
       "\n",
       "                                                text  apply_count  \\\n",
       "0                                                NaN          NaN   \n",
       "1                                                NaN          NaN   \n",
       "2  A global company with an R&D office in Kyiv, U...          0.0   \n",
       "3  A global company with an R&D office in Kyiv, U...          0.0   \n",
       "4  A global company with an R&D office in Kyiv, U...          0.0   \n",
       "\n",
       "   test_task_link   salary  year_of_experience                 recruiter  \\\n",
       "0             NaN      NaN                 NaN                      $oid   \n",
       "1             NaN      NaN                 NaN                       NaN   \n",
       "2             NaN  35370.0                 1.0  662cf32332f07693975ed74c   \n",
       "3             NaN  95198.0                 1.0  662cf32332f07693975ed74c   \n",
       "4             NaN  55667.0                 5.0  662cf32332f07693975ed74c   \n",
       "\n",
       "   employee                                             skills      createdAt  \n",
       "0       NaN                                                NaN          $date  \n",
       "1       NaN                                                NaN    $numberLong  \n",
       "2       NaN                            php,laravel,codeigniter  1703164229591  \n",
       "3       NaN  azure data factory oracle soa rpa salesforce d...  1687740181461  \n",
       "4       NaN                        php,codeigniter,php laravel  1714073570511  "
      ]
     },
     "execution_count": 69,
     "metadata": {},
     "output_type": "execute_result"
    }
   ],
   "source": [
    "import pandas as pd\n",
    "file_path = './new_jobs.xlsx'\n",
    "df = pd.read_excel(file_path)\n",
    "df.iloc[:, 0] = df.iloc[:, 0].astype(str).str.lower()\n",
    "df[\"skills\"] = df[\"skills\"].apply(lambda x: x.lower() if isinstance(x, str) else x)\n",
    "df.head()\n",
    "\n"
   ]
  },
  {
   "cell_type": "code",
   "execution_count": 70,
   "metadata": {},
   "outputs": [
    {
     "data": {
      "text/html": [
       "<div>\n",
       "<style scoped>\n",
       "    .dataframe tbody tr th:only-of-type {\n",
       "        vertical-align: middle;\n",
       "    }\n",
       "\n",
       "    .dataframe tbody tr th {\n",
       "        vertical-align: top;\n",
       "    }\n",
       "\n",
       "    .dataframe thead th {\n",
       "        text-align: right;\n",
       "    }\n",
       "</style>\n",
       "<table border=\"1\" class=\"dataframe\">\n",
       "  <thead>\n",
       "    <tr style=\"text-align: right;\">\n",
       "      <th></th>\n",
       "      <th>location</th>\n",
       "      <th>title</th>\n",
       "      <th>text</th>\n",
       "      <th>apply_count</th>\n",
       "      <th>test_task_link</th>\n",
       "      <th>salary</th>\n",
       "      <th>year_of_experience</th>\n",
       "      <th>recruiter</th>\n",
       "      <th>employee</th>\n",
       "      <th>skills</th>\n",
       "      <th>createdAt</th>\n",
       "    </tr>\n",
       "  </thead>\n",
       "  <tbody>\n",
       "    <tr>\n",
       "      <th>0</th>\n",
       "      <td>nan</td>\n",
       "      <td>NaN</td>\n",
       "      <td>NaN</td>\n",
       "      <td>NaN</td>\n",
       "      <td>NaN</td>\n",
       "      <td>NaN</td>\n",
       "      <td>NaN</td>\n",
       "      <td>$oid</td>\n",
       "      <td>NaN</td>\n",
       "      <td></td>\n",
       "      <td>$date</td>\n",
       "    </tr>\n",
       "    <tr>\n",
       "      <th>1</th>\n",
       "      <td>nan</td>\n",
       "      <td>NaN</td>\n",
       "      <td>NaN</td>\n",
       "      <td>NaN</td>\n",
       "      <td>NaN</td>\n",
       "      <td>NaN</td>\n",
       "      <td>NaN</td>\n",
       "      <td>NaN</td>\n",
       "      <td>NaN</td>\n",
       "      <td></td>\n",
       "      <td>$numberLong</td>\n",
       "    </tr>\n",
       "    <tr>\n",
       "      <th>2</th>\n",
       "      <td>nan</td>\n",
       "      <td>PHP Laravel or Codeigniter Trainees Hiring(App...</td>\n",
       "      <td>A global company with an R&amp;D office in Kyiv, U...</td>\n",
       "      <td>0.0</td>\n",
       "      <td>NaN</td>\n",
       "      <td>35370.0</td>\n",
       "      <td>1.0</td>\n",
       "      <td>662cf32332f07693975ed74c</td>\n",
       "      <td>NaN</td>\n",
       "      <td>[php, ,, laravel, ,, codeigniter]</td>\n",
       "      <td>1703164229591</td>\n",
       "    </tr>\n",
       "    <tr>\n",
       "      <th>3</th>\n",
       "      <td>nan</td>\n",
       "      <td>IT PROFESSIONAL</td>\n",
       "      <td>A global company with an R&amp;D office in Kyiv, U...</td>\n",
       "      <td>0.0</td>\n",
       "      <td>NaN</td>\n",
       "      <td>95198.0</td>\n",
       "      <td>1.0</td>\n",
       "      <td>662cf32332f07693975ed74c</td>\n",
       "      <td>NaN</td>\n",
       "      <td>[azure, data, factory, oracle, soa, rpa, sales...</td>\n",
       "      <td>1687740181461</td>\n",
       "    </tr>\n",
       "    <tr>\n",
       "      <th>4</th>\n",
       "      <td>харківська обл., ізюмський р-н, сщ.першотравневе</td>\n",
       "      <td>Full Stack Developer-PHP ( Lead )</td>\n",
       "      <td>A global company with an R&amp;D office in Kyiv, U...</td>\n",
       "      <td>0.0</td>\n",
       "      <td>NaN</td>\n",
       "      <td>55667.0</td>\n",
       "      <td>5.0</td>\n",
       "      <td>662cf32332f07693975ed74c</td>\n",
       "      <td>NaN</td>\n",
       "      <td>[php, ,, codeigniter, ,, php, laravel]</td>\n",
       "      <td>1714073570511</td>\n",
       "    </tr>\n",
       "  </tbody>\n",
       "</table>\n",
       "</div>"
      ],
      "text/plain": [
       "                                           location  \\\n",
       "0                                               nan   \n",
       "1                                               nan   \n",
       "2                                               nan   \n",
       "3                                               nan   \n",
       "4  харківська обл., ізюмський р-н, сщ.першотравневе   \n",
       "\n",
       "                                               title  \\\n",
       "0                                                NaN   \n",
       "1                                                NaN   \n",
       "2  PHP Laravel or Codeigniter Trainees Hiring(App...   \n",
       "3                                    IT PROFESSIONAL   \n",
       "4                  Full Stack Developer-PHP ( Lead )   \n",
       "\n",
       "                                                text  apply_count  \\\n",
       "0                                                NaN          NaN   \n",
       "1                                                NaN          NaN   \n",
       "2  A global company with an R&D office in Kyiv, U...          0.0   \n",
       "3  A global company with an R&D office in Kyiv, U...          0.0   \n",
       "4  A global company with an R&D office in Kyiv, U...          0.0   \n",
       "\n",
       "   test_task_link   salary  year_of_experience                 recruiter  \\\n",
       "0             NaN      NaN                 NaN                      $oid   \n",
       "1             NaN      NaN                 NaN                       NaN   \n",
       "2             NaN  35370.0                 1.0  662cf32332f07693975ed74c   \n",
       "3             NaN  95198.0                 1.0  662cf32332f07693975ed74c   \n",
       "4             NaN  55667.0                 5.0  662cf32332f07693975ed74c   \n",
       "\n",
       "   employee                                             skills      createdAt  \n",
       "0       NaN                                                             $date  \n",
       "1       NaN                                                       $numberLong  \n",
       "2       NaN                  [php, ,, laravel, ,, codeigniter]  1703164229591  \n",
       "3       NaN  [azure, data, factory, oracle, soa, rpa, sales...  1687740181461  \n",
       "4       NaN             [php, ,, codeigniter, ,, php, laravel]  1714073570511  "
      ]
     },
     "execution_count": 70,
     "metadata": {},
     "output_type": "execute_result"
    }
   ],
   "source": [
    "import nltk\n",
    "from nltk import word_tokenize\n",
    "# nltk.download('punkt')\n",
    "df[\"skills\"] = df[\"skills\"].apply(lambda x: word_tokenize(str(x)) if isinstance(x, str) else '')\n",
    "df.head()"
   ]
  },
  {
   "cell_type": "code",
   "execution_count": 71,
   "metadata": {},
   "outputs": [
    {
     "name": "stderr",
     "output_type": "stream",
     "text": [
      "[nltk_data] Downloading package stopwords to\n",
      "[nltk_data]     C:\\Users\\lolak\\AppData\\Roaming\\nltk_data...\n",
      "[nltk_data]   Package stopwords is already up-to-date!\n"
     ]
    },
    {
     "data": {
      "text/plain": [
       "0                                                       \n",
       "1                                                       \n",
       "2                      [php, ,, laravel, ,, codeigniter]\n",
       "3      [azure, data, factory, oracle, soa, rpa, sales...\n",
       "4                 [php, ,, codeigniter, ,, php, laravel]\n",
       "                             ...                        \n",
       "350    [pmp, ,, project, coordinators, ,, software, p...\n",
       "351    [test, case, preparation, ,, manual, testing, ...\n",
       "352    [selenium, ,, functional, testing, ,, manual, ...\n",
       "353    [ms, azure, ,, sql, azure, ,, c, #, .net, ,, a...\n",
       "354    [javascript, ,, web, stacks, ,, libraries, ,, ...\n",
       "Name: skills, Length: 355, dtype: object"
      ]
     },
     "execution_count": 71,
     "metadata": {},
     "output_type": "execute_result"
    }
   ],
   "source": [
    "from nltk.corpus import stopwords\n",
    "import nltk\n",
    "nltk.download('stopwords')\n",
    "stop_words = set(stopwords.words('english'))\n",
    "df.iloc[:, 0] = df.iloc[:, 0].apply(lambda x: [word for word in x if word not in stop_words])\n",
    "df['skills']"
   ]
  },
  {
   "cell_type": "code",
   "execution_count": 74,
   "metadata": {},
   "outputs": [
    {
     "name": "stderr",
     "output_type": "stream",
     "text": [
      "[nltk_data] Downloading package wordnet to\n",
      "[nltk_data]     C:\\Users\\lolak\\AppData\\Roaming\\nltk_data...\n",
      "[nltk_data]   Package wordnet is already up-to-date!\n"
     ]
    },
    {
     "data": {
      "text/plain": [
       "0                                                       \n",
       "1                                                       \n",
       "2                      [php, ,, laravel, ,, codeigniter]\n",
       "3      [azure, data, factory, oracle, soa, rpa, sales...\n",
       "4                 [php, ,, codeigniter, ,, php, laravel]\n",
       "                             ...                        \n",
       "350    [pmp, ,, project, coordinators, ,, software, p...\n",
       "351    [test, case, preparation, ,, manual, testing, ...\n",
       "352    [selenium, ,, functional, testing, ,, manual, ...\n",
       "353    [ms, azure, ,, sql, azure, ,, c, #, .net, ,, a...\n",
       "354    [javascript, ,, web, stacks, ,, libraries, ,, ...\n",
       "Name: skills, Length: 355, dtype: object"
      ]
     },
     "execution_count": 74,
     "metadata": {},
     "output_type": "execute_result"
    }
   ],
   "source": [
    "from nltk.stem import WordNetLemmatizer\n",
    "import nltk\n",
    "nltk.download('wordnet')\n",
    "lemmatizer = WordNetLemmatizer()\n",
    "df.iloc[:, 0] = df.iloc[:, 0].apply(lambda x: [lemmatizer.lemmatize(word) for word in x])\n",
    "df[\"skills\"]"
   ]
  },
  {
   "cell_type": "code",
   "execution_count": 86,
   "metadata": {},
   "outputs": [],
   "source": [
    "df[\"skills\"].to_excel('./jobs_right_version.xlsx', index=False)"
   ]
  },
  {
   "cell_type": "code",
   "execution_count": 89,
   "metadata": {},
   "outputs": [
    {
     "data": {
      "text/html": [
       "<div>\n",
       "<style scoped>\n",
       "    .dataframe tbody tr th:only-of-type {\n",
       "        vertical-align: middle;\n",
       "    }\n",
       "\n",
       "    .dataframe tbody tr th {\n",
       "        vertical-align: top;\n",
       "    }\n",
       "\n",
       "    .dataframe thead th {\n",
       "        text-align: right;\n",
       "    }\n",
       "</style>\n",
       "<table border=\"1\" class=\"dataframe\">\n",
       "  <thead>\n",
       "    <tr style=\"text-align: right;\">\n",
       "      <th></th>\n",
       "      <th>skills</th>\n",
       "    </tr>\n",
       "  </thead>\n",
       "  <tbody>\n",
       "    <tr>\n",
       "      <th>0</th>\n",
       "      <td>NaN</td>\n",
       "    </tr>\n",
       "    <tr>\n",
       "      <th>1</th>\n",
       "      <td>NaN</td>\n",
       "    </tr>\n",
       "    <tr>\n",
       "      <th>2</th>\n",
       "      <td>['php', ',', 'laravel', ',', 'codeigniter']</td>\n",
       "    </tr>\n",
       "    <tr>\n",
       "      <th>3</th>\n",
       "      <td>['azure', 'data', 'factory', 'oracle', 'soa', ...</td>\n",
       "    </tr>\n",
       "    <tr>\n",
       "      <th>4</th>\n",
       "      <td>['php', ',', 'codeigniter', ',', 'php', 'larav...</td>\n",
       "    </tr>\n",
       "  </tbody>\n",
       "</table>\n",
       "</div>"
      ],
      "text/plain": [
       "                                              skills\n",
       "0                                                NaN\n",
       "1                                                NaN\n",
       "2        ['php', ',', 'laravel', ',', 'codeigniter']\n",
       "3  ['azure', 'data', 'factory', 'oracle', 'soa', ...\n",
       "4  ['php', ',', 'codeigniter', ',', 'php', 'larav..."
      ]
     },
     "execution_count": 89,
     "metadata": {},
     "output_type": "execute_result"
    }
   ],
   "source": [
    "dfa = pd.read_excel('./jobs_right_version.xlsx');\n",
    "dfa.head()"
   ]
  },
  {
   "cell_type": "code",
   "execution_count": 90,
   "metadata": {},
   "outputs": [
    {
     "name": "stdout",
     "output_type": "stream",
     "text": [
      "(355, 12)\n"
     ]
    }
   ],
   "source": [
    "from sklearn.feature_extraction.text import TfidfVectorizer\n",
    "tfidf_vectorizer = TfidfVectorizer(min_df=20)\n",
    "tfidf_matrix = tfidf_vectorizer.fit_transform(dfa.iloc[:, 0].astype('U'))\n",
    "\n",
    "print(tfidf_matrix.shape)"
   ]
  },
  {
   "cell_type": "code",
   "execution_count": 91,
   "metadata": {},
   "outputs": [],
   "source": [
    "terms = tfidf_vectorizer.get_feature_names_out()"
   ]
  },
  {
   "cell_type": "code",
   "execution_count": 92,
   "metadata": {},
   "outputs": [
    {
     "data": {
      "text/html": [
       "<div>\n",
       "<style scoped>\n",
       "    .dataframe tbody tr th:only-of-type {\n",
       "        vertical-align: middle;\n",
       "    }\n",
       "\n",
       "    .dataframe tbody tr th {\n",
       "        vertical-align: top;\n",
       "    }\n",
       "\n",
       "    .dataframe thead th {\n",
       "        text-align: right;\n",
       "    }\n",
       "</style>\n",
       "<table border=\"1\" class=\"dataframe\">\n",
       "  <thead>\n",
       "    <tr style=\"text-align: right;\">\n",
       "      <th></th>\n",
       "      <th>and</th>\n",
       "      <th>angular</th>\n",
       "      <th>api</th>\n",
       "      <th>developer</th>\n",
       "      <th>java</th>\n",
       "      <th>javascript</th>\n",
       "      <th>js</th>\n",
       "      <th>mvc</th>\n",
       "      <th>net</th>\n",
       "      <th>react</th>\n",
       "      <th>testing</th>\n",
       "      <th>web</th>\n",
       "    </tr>\n",
       "  </thead>\n",
       "  <tbody>\n",
       "    <tr>\n",
       "      <th>0</th>\n",
       "      <td>0.000000</td>\n",
       "      <td>0.0</td>\n",
       "      <td>0.000000</td>\n",
       "      <td>0.0</td>\n",
       "      <td>0.00000</td>\n",
       "      <td>0.00000</td>\n",
       "      <td>0.0</td>\n",
       "      <td>0.000000</td>\n",
       "      <td>0.000000</td>\n",
       "      <td>0.0</td>\n",
       "      <td>0.000000</td>\n",
       "      <td>0.000000</td>\n",
       "    </tr>\n",
       "    <tr>\n",
       "      <th>1</th>\n",
       "      <td>0.000000</td>\n",
       "      <td>0.0</td>\n",
       "      <td>0.000000</td>\n",
       "      <td>0.0</td>\n",
       "      <td>0.00000</td>\n",
       "      <td>0.00000</td>\n",
       "      <td>0.0</td>\n",
       "      <td>0.000000</td>\n",
       "      <td>0.000000</td>\n",
       "      <td>0.0</td>\n",
       "      <td>0.000000</td>\n",
       "      <td>0.000000</td>\n",
       "    </tr>\n",
       "    <tr>\n",
       "      <th>2</th>\n",
       "      <td>0.000000</td>\n",
       "      <td>0.0</td>\n",
       "      <td>0.000000</td>\n",
       "      <td>0.0</td>\n",
       "      <td>0.00000</td>\n",
       "      <td>0.00000</td>\n",
       "      <td>0.0</td>\n",
       "      <td>0.000000</td>\n",
       "      <td>0.000000</td>\n",
       "      <td>0.0</td>\n",
       "      <td>0.000000</td>\n",
       "      <td>0.000000</td>\n",
       "    </tr>\n",
       "    <tr>\n",
       "      <th>3</th>\n",
       "      <td>0.000000</td>\n",
       "      <td>0.0</td>\n",
       "      <td>0.000000</td>\n",
       "      <td>0.0</td>\n",
       "      <td>0.71609</td>\n",
       "      <td>0.00000</td>\n",
       "      <td>0.0</td>\n",
       "      <td>0.000000</td>\n",
       "      <td>0.698008</td>\n",
       "      <td>0.0</td>\n",
       "      <td>0.000000</td>\n",
       "      <td>0.000000</td>\n",
       "    </tr>\n",
       "    <tr>\n",
       "      <th>4</th>\n",
       "      <td>0.000000</td>\n",
       "      <td>0.0</td>\n",
       "      <td>0.000000</td>\n",
       "      <td>0.0</td>\n",
       "      <td>0.00000</td>\n",
       "      <td>0.00000</td>\n",
       "      <td>0.0</td>\n",
       "      <td>0.000000</td>\n",
       "      <td>0.000000</td>\n",
       "      <td>0.0</td>\n",
       "      <td>0.000000</td>\n",
       "      <td>0.000000</td>\n",
       "    </tr>\n",
       "    <tr>\n",
       "      <th>...</th>\n",
       "      <td>...</td>\n",
       "      <td>...</td>\n",
       "      <td>...</td>\n",
       "      <td>...</td>\n",
       "      <td>...</td>\n",
       "      <td>...</td>\n",
       "      <td>...</td>\n",
       "      <td>...</td>\n",
       "      <td>...</td>\n",
       "      <td>...</td>\n",
       "      <td>...</td>\n",
       "      <td>...</td>\n",
       "    </tr>\n",
       "    <tr>\n",
       "      <th>350</th>\n",
       "      <td>0.000000</td>\n",
       "      <td>0.0</td>\n",
       "      <td>0.000000</td>\n",
       "      <td>0.0</td>\n",
       "      <td>0.00000</td>\n",
       "      <td>0.00000</td>\n",
       "      <td>0.0</td>\n",
       "      <td>0.000000</td>\n",
       "      <td>0.000000</td>\n",
       "      <td>0.0</td>\n",
       "      <td>0.000000</td>\n",
       "      <td>0.000000</td>\n",
       "    </tr>\n",
       "    <tr>\n",
       "      <th>351</th>\n",
       "      <td>0.389815</td>\n",
       "      <td>0.0</td>\n",
       "      <td>0.000000</td>\n",
       "      <td>0.0</td>\n",
       "      <td>0.00000</td>\n",
       "      <td>0.00000</td>\n",
       "      <td>0.0</td>\n",
       "      <td>0.000000</td>\n",
       "      <td>0.000000</td>\n",
       "      <td>0.0</td>\n",
       "      <td>0.825668</td>\n",
       "      <td>0.407820</td>\n",
       "    </tr>\n",
       "    <tr>\n",
       "      <th>352</th>\n",
       "      <td>0.223384</td>\n",
       "      <td>0.0</td>\n",
       "      <td>0.000000</td>\n",
       "      <td>0.0</td>\n",
       "      <td>0.00000</td>\n",
       "      <td>0.00000</td>\n",
       "      <td>0.0</td>\n",
       "      <td>0.000000</td>\n",
       "      <td>0.000000</td>\n",
       "      <td>0.0</td>\n",
       "      <td>0.946300</td>\n",
       "      <td>0.233702</td>\n",
       "    </tr>\n",
       "    <tr>\n",
       "      <th>353</th>\n",
       "      <td>0.000000</td>\n",
       "      <td>0.0</td>\n",
       "      <td>0.374494</td>\n",
       "      <td>0.0</td>\n",
       "      <td>0.00000</td>\n",
       "      <td>0.00000</td>\n",
       "      <td>0.0</td>\n",
       "      <td>0.415653</td>\n",
       "      <td>0.717091</td>\n",
       "      <td>0.0</td>\n",
       "      <td>0.000000</td>\n",
       "      <td>0.415653</td>\n",
       "    </tr>\n",
       "    <tr>\n",
       "      <th>354</th>\n",
       "      <td>0.000000</td>\n",
       "      <td>0.0</td>\n",
       "      <td>0.000000</td>\n",
       "      <td>0.0</td>\n",
       "      <td>0.00000</td>\n",
       "      <td>0.50576</td>\n",
       "      <td>0.0</td>\n",
       "      <td>0.610003</td>\n",
       "      <td>0.000000</td>\n",
       "      <td>0.0</td>\n",
       "      <td>0.000000</td>\n",
       "      <td>0.610003</td>\n",
       "    </tr>\n",
       "  </tbody>\n",
       "</table>\n",
       "<p>355 rows × 12 columns</p>\n",
       "</div>"
      ],
      "text/plain": [
       "          and  angular       api  developer     java  javascript   js  \\\n",
       "0    0.000000      0.0  0.000000        0.0  0.00000     0.00000  0.0   \n",
       "1    0.000000      0.0  0.000000        0.0  0.00000     0.00000  0.0   \n",
       "2    0.000000      0.0  0.000000        0.0  0.00000     0.00000  0.0   \n",
       "3    0.000000      0.0  0.000000        0.0  0.71609     0.00000  0.0   \n",
       "4    0.000000      0.0  0.000000        0.0  0.00000     0.00000  0.0   \n",
       "..        ...      ...       ...        ...      ...         ...  ...   \n",
       "350  0.000000      0.0  0.000000        0.0  0.00000     0.00000  0.0   \n",
       "351  0.389815      0.0  0.000000        0.0  0.00000     0.00000  0.0   \n",
       "352  0.223384      0.0  0.000000        0.0  0.00000     0.00000  0.0   \n",
       "353  0.000000      0.0  0.374494        0.0  0.00000     0.00000  0.0   \n",
       "354  0.000000      0.0  0.000000        0.0  0.00000     0.50576  0.0   \n",
       "\n",
       "          mvc       net  react   testing       web  \n",
       "0    0.000000  0.000000    0.0  0.000000  0.000000  \n",
       "1    0.000000  0.000000    0.0  0.000000  0.000000  \n",
       "2    0.000000  0.000000    0.0  0.000000  0.000000  \n",
       "3    0.000000  0.698008    0.0  0.000000  0.000000  \n",
       "4    0.000000  0.000000    0.0  0.000000  0.000000  \n",
       "..        ...       ...    ...       ...       ...  \n",
       "350  0.000000  0.000000    0.0  0.000000  0.000000  \n",
       "351  0.000000  0.000000    0.0  0.825668  0.407820  \n",
       "352  0.000000  0.000000    0.0  0.946300  0.233702  \n",
       "353  0.415653  0.717091    0.0  0.000000  0.415653  \n",
       "354  0.610003  0.000000    0.0  0.000000  0.610003  \n",
       "\n",
       "[355 rows x 12 columns]"
      ]
     },
     "execution_count": 92,
     "metadata": {},
     "output_type": "execute_result"
    }
   ],
   "source": [
    "tfidf_df = pd.DataFrame(tfidf_matrix.toarray(), columns=terms)\n",
    "tfidf_df"
   ]
  },
  {
   "cell_type": "code",
   "execution_count": 93,
   "metadata": {},
   "outputs": [
    {
     "data": {
      "image/png": "[encoded data removed]",
      "text/plain": [
       "<Figure size 640x480 with 1 Axes>"
      ]
     },
     "metadata": {},
     "output_type": "display_data"
    }
   ],
   "source": [
    "import matplotlib.pyplot as plt\n",
    "\n",
    "# Гистограмма наиболее часто встречающихся терминов\n",
    "tfidf_df.sum().sort_values(ascending=False).head(50).plot(kind='bar')\n",
    "plt.title('Top 50 Key Skills by TF-IDF Weight')\n",
    "plt.xlabel('Key Skills')\n",
    "plt.ylabel('TF-IDF Weight')\n",
    "plt.show()"
   ]
  },
  {
   "cell_type": "code",
   "execution_count": 94,
   "metadata": {},
   "outputs": [
    {
     "name": "stdout",
     "output_type": "stream",
     "text": [
      "['and' 'angular' 'api' 'developer' 'java' 'javascript' 'js' 'mvc' 'net'\n",
      " 'react' 'testing' 'web']\n"
     ]
    }
   ],
   "source": [
    "terms = tfidf_vectorizer.get_feature_names_out()\n",
    "print(terms)"
   ]
  },
  {
   "cell_type": "code",
   "execution_count": 95,
   "metadata": {},
   "outputs": [
    {
     "name": "stderr",
     "output_type": "stream",
     "text": [
      "100%|██████████| 12/12 [00:00<00:00, 6020.53it/s]"
     ]
    },
    {
     "name": "stdout",
     "output_type": "stream",
     "text": [
      "                  Term  Frequency\n",
      "net                net  28.571738\n",
      "java              java  25.778005\n",
      "developer    developer  24.099734\n",
      "javascript  javascript  22.105589\n",
      "angular        angular  20.445280\n"
     ]
    },
    {
     "name": "stderr",
     "output_type": "stream",
     "text": [
      "\n"
     ]
    }
   ],
   "source": [
    "from tqdm import tqdm\n",
    "\n",
    "# DataFrame из TF-IDF матрицы\n",
    "tfidf_df = pd.DataFrame(tfidf_matrix.toarray(), columns=terms)\n",
    "tqdm.pandas()\n",
    "\n",
    "# Суммарные частоты встречаемости для каждого термина\n",
    "term_frequencies = tfidf_df.progress_apply(lambda x: x.sum())\n",
    "\n",
    "# DataFrame с терминами и их суммарными частотами встречаемости\n",
    "term_freq_df = pd.DataFrame({'Term': terms, 'Frequency': term_frequencies})\n",
    "\n",
    "# Сортировка по убыванию частот встречаемости\n",
    "term_freq_df = term_freq_df.sort_values(by='Frequency', ascending=False)\n",
    "\n",
    "print(term_freq_df.head())"
   ]
  },
  {
   "cell_type": "code",
   "execution_count": 96,
   "metadata": {},
   "outputs": [],
   "source": [
    "term_freq_df.to_excel('./term_frequencies.xlsx', index=False)"
   ]
  },
  {
   "cell_type": "code",
   "execution_count": 101,
   "metadata": {},
   "outputs": [
    {
     "name": "stdout",
     "output_type": "stream",
     "text": [
      "Clustering in progress...\n",
      "Clustering completed.\n",
      "     agglomerative_cluster_label\n",
      "227                           21\n",
      "42                             7\n",
      "256                            3\n",
      "182                           19\n",
      "56                             8\n",
      "..                           ...\n",
      "343                            1\n",
      "196                           11\n",
      "244                           11\n",
      "93                             7\n",
      "255                           13\n",
      "\n",
      "[71 rows x 1 columns]\n"
     ]
    }
   ],
   "source": [
    "from sklearn.cluster import AgglomerativeClustering\n",
    "from sklearn.preprocessing import StandardScaler\n",
    "\n",
    "data_for_clustering = tfidf_df.sample(frac=0.2, random_state=42)\n",
    "num_clusters = 22\n",
    "agglomerative_cluster = AgglomerativeClustering(n_clusters=num_clusters, linkage='ward')\n",
    "\n",
    "print(\"Clustering in progress...\")\n",
    "agglomerative_labels = agglomerative_cluster.fit_predict(data_for_clustering)\n",
    "print(\"Clustering completed.\")\n",
    "\n",
    "# Adding cluster labels to the DataFrame\n",
    "data_for_clustering['agglomerative_cluster_label'] = agglomerative_labels\n",
    "\n",
    "print(data_for_clustering[['agglomerative_cluster_label']])"
   ]
  },
  {
   "cell_type": "code",
   "execution_count": 102,
   "metadata": {},
   "outputs": [
    {
     "name": "stdout",
     "output_type": "stream",
     "text": [
      "    Cluster_Label\n",
      "0              21\n",
      "1               7\n",
      "2               3\n",
      "3              19\n",
      "4               8\n",
      "..            ...\n",
      "66              1\n",
      "67             11\n",
      "68             11\n",
      "69              7\n",
      "70             13\n",
      "\n",
      "[71 rows x 1 columns]\n"
     ]
    }
   ],
   "source": [
    "result_df = pd.DataFrame({\n",
    "    'Cluster_Label': agglomerative_labels\n",
    "})\n",
    "\n",
    "result_df.to_csv('./result_of_clustering.csv', index=False)\n",
    "\n",
    "print(result_df[['Cluster_Label']])"
   ]
  },
  {
   "cell_type": "code",
   "execution_count": 104,
   "metadata": {},
   "outputs": [
    {
     "data": {
      "image/png": "[encoded data removed]",
      "text/plain": [
       "<Figure size 640x480 with 1 Axes>"
      ]
     },
     "metadata": {},
     "output_type": "display_data"
    }
   ],
   "source": [
    "from scipy.cluster.hierarchy import dendrogram, linkage\n",
    "import matplotlib.pyplot as plt\n",
    "\n",
    "\n",
    "linkage_matrix = linkage(data_for_clustering, method='ward')\n",
    "\n",
    "dendrogram(linkage_matrix, truncate_mode='level', p=4)\n",
    "plt.show()\n"
   ]
  },
  {
   "cell_type": "code",
   "execution_count": 105,
   "metadata": {},
   "outputs": [
    {
     "name": "stdout",
     "output_type": "stream",
     "text": [
      "Cophenetic Correlation Coefficient: 0.8380350573311558\n"
     ]
    },
    {
     "data": {
      "image/png": "[encoded data removed]",
      "text/plain": [
       "<Figure size 1200x600 with 1 Axes>"
      ]
     },
     "metadata": {},
     "output_type": "display_data"
    }
   ],
   "source": [
    "from scipy.cluster.hierarchy import dendrogram, linkage, cophenet\n",
    "from scipy.spatial.distance import pdist\n",
    "\n",
    "# Построение иерархической кластеризации\n",
    "Z = linkage_matrix\n",
    "\n",
    "# Расчет cophenetic correlation coefficient\n",
    "c, coph_dists = cophenet(Z, pdist(data_for_clustering))\n",
    "\n",
    "print(f'Cophenetic Correlation Coefficient: {c}')\n",
    "\n",
    "# Построение дендрограммы\n",
    "plt.figure(figsize=(12, 6))\n",
    "dendrogram(Z)\n",
    "plt.title('Hierarchical Clustering Dendrogram')\n",
    "plt.xlabel('Sample Index')\n",
    "plt.ylabel('Distance')\n",
    "plt.show()"
   ]
  },
  {
   "cell_type": "code",
   "execution_count": 106,
   "metadata": {},
   "outputs": [
    {
     "name": "stdout",
     "output_type": "stream",
     "text": [
      "Cophenetic Correlation Coefficient: 0.8380350573311558\n"
     ]
    }
   ],
   "source": [
    "# Расчет cophenetic correlation coefficient\n",
    "c, coph_dists = cophenet(Z, pdist(data_for_clustering))\n",
    "\n",
    "print(f'Cophenetic Correlation Coefficient: {c}')"
   ]
  },
  {
   "cell_type": "code",
   "execution_count": 107,
   "metadata": {},
   "outputs": [
    {
     "name": "stdout",
     "output_type": "stream",
     "text": [
      "[t-SNE] Computing 70 nearest neighbors...\n",
      "[t-SNE] Indexed 71 samples in 0.000s...\n",
      "[t-SNE] Computed neighbors for 71 samples in 0.117s...\n",
      "[t-SNE] Computed conditional probabilities for sample 71 / 71\n",
      "[t-SNE] Mean sigma: 2.431429\n",
      "[t-SNE] KL divergence after 250 iterations with early exaggeration: 31.534449\n",
      "[t-SNE] KL divergence after 1000 iterations: -6.485178\n"
     ]
    },
    {
     "data": {
      "image/png": "[encoded data removed]",
      "text/plain": [
       "<Figure size 1000x800 with 1 Axes>"
      ]
     },
     "metadata": {},
     "output_type": "display_data"
    }
   ],
   "source": [
    "import numpy as np\n",
    "from sklearn.manifold import TSNE\n",
    "\n",
    "data_for_clustering\n",
    "# Матрица терминов с весами tf-idf\n",
    "data_tfidf_sne = data_for_clustering\n",
    "\n",
    "# Экземпляр модели t-SNE с 2 компонентами (2D пространство)\n",
    "tsne = TSNE(n_components=2, random_state=42, verbose=1, perplexity=40, learning_rate=30, n_iter=1000)\n",
    "\n",
    "data_tsne = tsne.fit_transform(data_tfidf_sne)\n",
    "\n",
    "plt.figure(figsize=(10, 8))\n",
    "plt.scatter(data_tsne[:, 0], data_tsne[:, 1], alpha=0.5)\n",
    "plt.title('t-SNE Visualization')\n",
    "plt.xlabel('Dimension 1')\n",
    "plt.ylabel('Dimension 2')\n",
    "plt.show()"
   ]
  },
  {
   "cell_type": "code",
   "execution_count": 108,
   "metadata": {},
   "outputs": [
    {
     "name": "stdout",
     "output_type": "stream",
     "text": [
      "Clusters at distance 1: 3\n",
      "Clusters at distance 2: 2\n",
      "Clusters at distance 3: 3\n",
      "Clusters at distance 4: 2\n",
      "Clusters at distance 5: 1\n",
      "Clusters at distance 6: 1\n",
      "Clusters at distance 7: 1\n",
      "Clusters at distance 8: 1\n",
      "Clusters at distance 9: 1\n",
      "Clusters at distance 10: 1\n",
      "Clusters at distance 11: 1\n",
      "Clusters at distance 12: 1\n",
      "Clusters at distance 13: 1\n",
      "Clusters at distance 14: 1\n",
      "Clusters at distance 15: 36\n",
      "Clusters at distance 16: 1\n",
      "Clusters at distance 17: 2\n",
      "Clusters at distance 18: 1\n",
      "Clusters at distance 19: 1\n",
      "Clusters at distance 20: 6\n",
      "Clusters at distance 21: 2\n",
      "Clusters at distance 22: 2\n"
     ]
    }
   ],
   "source": [
    "from scipy.cluster.hierarchy import fcluster\n",
    "\n",
    "# Максимальное расстояние для формирования кластеров\n",
    "max_distance = 1\n",
    "\n",
    "# Получение информации о кластерах для каждого уровня расстояния\n",
    "clusters = fcluster(Z, max_distance, criterion='distance')\n",
    "\n",
    "# Вывод числа кластеров для каждого уровня расстояния\n",
    "for i in range(min(clusters), max(clusters) + 1):\n",
    "    num_clusters = sum(clusters == i)\n",
    "    print(f'Clusters at distance {i}: {num_clusters}')"
   ]
  },
  {
   "cell_type": "code",
   "execution_count": 114,
   "metadata": {},
   "outputs": [
    {
     "ename": "NameError",
     "evalue": "name 'data_tsne_x' is not defined",
     "output_type": "error",
     "traceback": [
      "\u001b[1;31m---------------------------------------------------------------------------\u001b[0m",
      "\u001b[1;31mNameError\u001b[0m                                 Traceback (most recent call last)",
      "Cell \u001b[1;32mIn [114], line 2\u001b[0m\n\u001b[0;32m      1\u001b[0m tsne_df \u001b[38;5;241m=\u001b[39m pd\u001b[38;5;241m.\u001b[39mDataFrame({\n\u001b[1;32m----> 2\u001b[0m     \u001b[38;5;124m'\u001b[39m\u001b[38;5;124mtsne_1\u001b[39m\u001b[38;5;124m'\u001b[39m: data_tsne_x[:, \u001b[38;5;241m0\u001b[39m],\n\u001b[0;32m      3\u001b[0m     \u001b[38;5;124m'\u001b[39m\u001b[38;5;124mtsne_2\u001b[39m\u001b[38;5;124m'\u001b[39m: data_tsne_x[:, \u001b[38;5;241m1\u001b[39m],\n\u001b[0;32m      4\u001b[0m     \u001b[38;5;124m'\u001b[39m\u001b[38;5;124magglomerative_cluster_label\u001b[39m\u001b[38;5;124m'\u001b[39m: data_for_clustering[\u001b[38;5;124m'\u001b[39m\u001b[38;5;124magglomerative_cluster_label\u001b[39m\u001b[38;5;124m'\u001b[39m]\n\u001b[0;32m      5\u001b[0m })\n\u001b[0;32m      7\u001b[0m \u001b[38;5;66;03m# Результаты с цветовой схемой, отражающей метки кластеров\u001b[39;00m\n\u001b[0;32m      8\u001b[0m plt\u001b[38;5;241m.\u001b[39mfigure(figsize\u001b[38;5;241m=\u001b[39m(\u001b[38;5;241m15\u001b[39m, \u001b[38;5;241m13\u001b[39m))\n",
      "\u001b[1;31mNameError\u001b[0m: name 'data_tsne_x' is not defined"
     ]
    }
   ],
   "source": [
    "tsne_df = pd.DataFrame({\n",
    "    'tsne_1': data_tsne_x[:, 0],\n",
    "    'tsne_2': data_tsne_x[:, 1],\n",
    "    'agglomerative_cluster_label': data_for_clustering['agglomerative_cluster_label']\n",
    "})\n",
    "\n",
    "# Результаты с цветовой схемой, отражающей метки кластеров\n",
    "plt.figure(figsize=(15, 13))\n",
    "sns.scatterplot(x='tsne_1', y='tsne_2', hue='agglomerative_cluster_label', data=tsne_df, palette='viridis', legend='full')\n",
    "plt.title('t-SNE Visualization with Cluster Labels')\n",
    "plt.show()"
   ]
  }
 ],
 "metadata": {
  "kernelspec": {
   "display_name": "Python 3",
   "language": "python",
   "name": "python3"
  },
  "language_info": {
   "codemirror_mode": {
    "name": "ipython",
    "version": 3
   },
   "file_extension": ".py",
   "mimetype": "text/x-python",
   "name": "python",
   "nbconvert_exporter": "python",
   "pygments_lexer": "ipython3",
   "version": "3.10.7"
  }
 },
 "nbformat": 4,
 "nbformat_minor": 2
}
