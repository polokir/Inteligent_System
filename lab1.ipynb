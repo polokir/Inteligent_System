{
 "cells": [
  {
   "cell_type": "markdown",
   "metadata": {},
   "source": [
    "![Djibouti flag](https://upload.wikimedia.org/wikipedia/commons/thumb/c/cb/Flag_of_the_Czech_Republic.svg/1024px-Flag_of_the_Czech_Republic.svg.png)\n",
    "\n",
    "### Загальна інформація\n",
    "\n",
    "- **Площа**: 78 866 км^2\n",
    "- **Населення**: 10,6 мільйонів жителів\n",
    "- **Державний устрій**: парламентська республіка\n",
    "- **Видатні персоналії**: Антонін Рейха, Бедржих Сметана,\n",
    "Антонін Ле́опольд Дворжак \n",
    "- **Памʼятки культури та природи**: Замок Орли, ЗамокГлубока над Влтавою,Замок Карлштейн\n",
    "\n",
    "### Таблиця з інформацією про країну\n",
    "\n",
    "| Показник | Значення |\n",
    "| --- | --- |\n",
    "| Площа | 8 866 км^2|\n",
    "| Населення | 10,6 мільйонів |\n",
    "| Державний устрій | арламентська республіка |\n",
    "\n",
    "### Список видатних персоналій\n",
    "\n",
    "- *Антонін Рейха*\n",
    "- *Бедржих Сметана*\n",
    "- *Антонін Ле́опольд Дворжак*"
   ]
  },
  {
   "cell_type": "code",
   "execution_count": 3,
   "metadata": {
    "vscode": {
     "languageId": "html"
    }
   },
   "outputs": [
    {
     "data": {
      "text/html": [
       "<!DOCTYPE html>\n",
       "<html>\n",
       "  <head>\n",
       "    <title>Flag of Djibouti</title>\n",
       "  </head>\n",
       "  <body>\n",
       "<img width=\"300\" height=\"200\" src=\"https://upload.wikimedia.org/wikipedia/commons/thumb/c/cb/Flag_of_the_Czech_Republic.svg/1024px-Flag_of_the_Czech_Republic.svg.png\"/>\n",
       "\n",
       "</html>\n"
      ],
      "text/plain": [
       "<IPython.core.display.HTML object>"
      ]
     },
     "metadata": {},
     "output_type": "display_data"
    }
   ],
   "source": [
    "%%html\n",
    "<!DOCTYPE html>\n",
    "<html>\n",
    "  <head>\n",
    "    <title>Flag of Djibouti</title>\n",
    "  </head>\n",
    "  <body>\n",
    "<img width=\"300\" height=\"200\" src=\"https://upload.wikimedia.org/wikipedia/commons/thumb/c/cb/Flag_of_the_Czech_Republic.svg/1024px-Flag_of_the_Czech_Republic.svg.png\"/>\n",
    "\n",
    "</html>"
   ]
  },
  {
   "cell_type": "code",
   "execution_count": 4,
   "metadata": {},
   "outputs": [
    {
     "name": "stdout",
     "output_type": "stream",
     "text": [
      "[103, 55, 13, 11, 9, 7, 5, 1]\n"
     ]
    }
   ],
   "source": [
    "numbers = [1, 24, 55, 4, 5, 64, 7, 82, 9, 103, 11, 12, 13, 14]\n",
    "numbers_odd = [x for x in numbers if x % 2 == 1]\n",
    "sortef_array = sorted(numbers_odd,reverse=True)\n",
    "print(sortef_array)"
   ]
  },
  {
   "cell_type": "markdown",
   "metadata": {},
   "source": []
  }
 ],
 "metadata": {
  "kernelspec": {
   "display_name": "Python 3",
   "language": "python",
   "name": "python3"
  },
  "language_info": {
   "codemirror_mode": {
    "name": "ipython",
    "version": 3
   },
   "file_extension": ".py",
   "mimetype": "text/x-python",
   "name": "python",
   "nbconvert_exporter": "python",
   "pygments_lexer": "ipython3",
   "version": "3.12.2"
  }
 },
 "nbformat": 4,
 "nbformat_minor": 2
}
