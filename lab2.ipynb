{
 "cells": [
  {
   "cell_type": "code",
   "execution_count": 1,
   "metadata": {},
   "outputs": [],
   "source": [
    "import numpy as np\n",
    "import time\n",
    "import random\n",
    "\n",
    "def task_1(dimension,f_type):\n",
    "    def task_default():\n",
    "        matrix = []\n",
    "        for i in range(dimension):\n",
    "            row = []\n",
    "            for j in range(dimension):\n",
    "                if i == j:\n",
    "                    row.append(i + 1)\n",
    "                else:\n",
    "                    row.append(0)\n",
    "            matrix.append(row)\n",
    "        return matrix\n",
    "    \n",
    "    def task_numpy():\n",
    "        matrix = np.zeros((dimension, dimension), dtype=int)\n",
    "        diagonal_values = np.arange(1, dimension+1)\n",
    "        np.fill_diagonal(matrix, diagonal_values)\n",
    "        return matrix\n",
    "    \n",
    "    f = {'default': task_default, 'numpy': task_numpy}\n",
    "\n",
    "    return f[f_type]"
   ]
  },
  {
   "cell_type": "code",
   "execution_count": 2,
   "metadata": {},
   "outputs": [],
   "source": [
    "def task_2(n, f_type):\n",
    "     \n",
    "    def task_default():\n",
    "        pattern = [[(i + j) % 2 for j in range(n)] for i in range(n)]\n",
    "\n",
    "        matrix = [[0 for _ in range(n)] for _ in range(n)]\n",
    "\n",
    "        matrix[0:n:2] = pattern[0:n:2]\n",
    "        matrix[1:n:2] = pattern[1:n:2]\n",
    "        return matrix\n",
    "\n",
    "    def task_numpy():\n",
    "        print([[(i + j) % 2 for j in range(n)] for i in range(n)])\n",
    "\n",
    "        matrix = np.zeros((n, n))\n",
    "\n",
    "        matrix[1::2, ::2] = 1\n",
    "        matrix[::2, 1::2] = 1\n",
    "\n",
    "        return matrix\n",
    "\n",
    "    f = {'default': task_default, 'numpy': task_numpy}\n",
    "\n",
    "    return f[f_type]"
   ]
  },
  {
   "cell_type": "code",
   "execution_count": 3,
   "metadata": {},
   "outputs": [],
   "source": [
    "def task_4(n, m, f_type):\n",
    "\n",
    "    def task_default():\n",
    "        return [[i if j == 0 else 0 for i in range(n)] for j in range(m)]\n",
    "\n",
    "    def task_numpy():\n",
    "        matrix = np.zeros((m, n))\n",
    "        matrix[0] = np.arange(n)\n",
    "        return matrix\n",
    "\n",
    "    f = {'default': task_default, 'numpy': task_numpy}\n",
    "\n",
    "    return f[f_type]"
   ]
  },
  {
   "cell_type": "code",
   "execution_count": 4,
   "metadata": {},
   "outputs": [],
   "source": [
    "def task_7(arr,f_type):\n",
    "    def task_default():\n",
    "        for i in arr:\n",
    "            if arr[i] == 0:\n",
    "                arr[i]=-1\n",
    "        return arr\n",
    "    \n",
    "    def task_numpy():\n",
    "        arr_np=np.array(arr)\n",
    "        arr_np[arr_np==0]=-1\n",
    "        return arr_np\n",
    "    \n",
    "    f = {'default': task_default, 'numpy': task_numpy}\n",
    "\n",
    "    return f[f_type]"
   ]
  },
  {
   "cell_type": "code",
   "execution_count": 5,
   "metadata": {},
   "outputs": [],
   "source": [
    "def task_8(arr, f_type):\n",
    "\n",
    "    def task_default():\n",
    "        zeros = len(list(filter(lambda x: x == 0, arr)))\n",
    "        nonezeros = len(list(filter(lambda x: x != 0, arr)))\n",
    "\n",
    "        return [nonezeros, zeros]\n",
    "\n",
    "    def task_numpy():\n",
    "        nonezeros =np.count_nonzero(arr)\n",
    "        zeros = np.count_nonzero(arr==0)\n",
    "        return [nonezeros, zeros]\n",
    "\n",
    "    f = {'default': task_default, 'numpy': task_numpy}\n",
    "\n",
    "    return f[f_type]"
   ]
  },
  {
   "cell_type": "code",
   "execution_count": 6,
   "metadata": {},
   "outputs": [],
   "source": [
    "def task_12(n, f_type):\n",
    "\n",
    "    def task_default():\n",
    "        return [[0 if (j == 0 or i == 0 or j == n-1 or i == n-1) else 1 for i in range(n)] for j in range(n)]\n",
    "\n",
    "    def task_numpy():\n",
    "        matrix = np.zeros((n, n))\n",
    "        matrix[1:-1, 1:-1] = 1\n",
    "\n",
    "        return matrix\n",
    "\n",
    "    f = {'default': task_default, 'numpy': task_numpy}\n",
    "\n",
    "    return f[f_type]\n"
   ]
  },
  {
   "cell_type": "code",
   "execution_count": 7,
   "metadata": {},
   "outputs": [],
   "source": [
    "def task_15(n, f_type):\n",
    "\n",
    "    def task_default():\n",
    "        return [[0 if i % 2 == 0 else 1 for i in range(n)] for _ in range(n)]\n",
    "\n",
    "    def task_numpy():\n",
    "        matrix = np.zeros((n, n))\n",
    "        matrix[::, 1::2] = 1\n",
    "        return matrix\n",
    "\n",
    "    f = {'default': task_default, 'numpy': task_numpy}\n",
    "\n",
    "    return f[f_type]"
   ]
  },
  {
   "cell_type": "code",
   "execution_count": 8,
   "metadata": {},
   "outputs": [],
   "source": [
    "def task_16(n,f_type):\n",
    "    def task_default():\n",
    "        return [0 if n / 4 < i < 3 * n / 4 else i for i in range(n)]\n",
    "    \n",
    "    def task_numpy():\n",
    "        vector = np.arange(n)  \n",
    "        mask = (vector > n/4) & (vector < 3*n/4)  \n",
    "        vector[mask] = 0  \n",
    "        return vector\n",
    "        \n",
    "    f = {'default': task_default, 'numpy': task_numpy}\n",
    "    return f[f_type]"
   ]
  },
  {
   "cell_type": "code",
   "execution_count": 9,
   "metadata": {},
   "outputs": [],
   "source": [
    "def task_20(n,f_type):\n",
    "    def task_default():\n",
    "        \n",
    "        return max([random.random() for _ in range(n)])\n",
    "    \n",
    "    def task_numpy():\n",
    "        return np.max(np.random.rand(1,n))\n",
    "        \n",
    "    f = {'default': task_default, 'numpy': task_numpy}\n",
    "    return f[f_type]"
   ]
  },
  {
   "cell_type": "code",
   "execution_count": 10,
   "metadata": {},
   "outputs": [],
   "source": [
    "def compare_time(f1, f2):\n",
    "    start = time.time()\n",
    "    result1 = f1()\n",
    "    end = time.time()\n",
    "\n",
    "    print(result1)\n",
    "    print(f\"Execution time: {end - start} seconds\")\n",
    "\n",
    "    start = time.time()\n",
    "    result2 = f2()\n",
    "    end = time.time()\n",
    "\n",
    "    print(result2)\n",
    "    print(f\"Execution time: {end - start} seconds\")\n",
    "\n",
    "    print(f\"Results are equal:{np.allclose(result1, result2)}\")"
   ]
  },
  {
   "cell_type": "code",
   "execution_count": 11,
   "metadata": {},
   "outputs": [
    {
     "name": "stdout",
     "output_type": "stream",
     "text": [
      "-----------task1-----------\n",
      "[[1, 0, 0, 0, 0], [0, 2, 0, 0, 0], [0, 0, 3, 0, 0], [0, 0, 0, 4, 0], [0, 0, 0, 0, 5]]\n",
      "Execution time: 0.0 seconds\n",
      "[[1 0 0 0 0]\n",
      " [0 2 0 0 0]\n",
      " [0 0 3 0 0]\n",
      " [0 0 0 4 0]\n",
      " [0 0 0 0 5]]\n",
      "Execution time: 0.0 seconds\n",
      "Results are equal:True\n",
      "---------------------------\n",
      "\n"
     ]
    }
   ],
   "source": [
    "print(\"-----------task1-----------\")\n",
    "compare_time(task_1(5, 'default'), task_1(5, 'numpy'))\n",
    "print(\"---------------------------\\n\")\n",
    "\n"
   ]
  },
  {
   "cell_type": "code",
   "execution_count": 12,
   "metadata": {},
   "outputs": [
    {
     "name": "stdout",
     "output_type": "stream",
     "text": [
      "-----------task2-----------\n",
      "[[0, 1, 0, 1, 0], [1, 0, 1, 0, 1], [0, 1, 0, 1, 0], [1, 0, 1, 0, 1], [0, 1, 0, 1, 0]]\n",
      "Execution time: 0.0 seconds\n",
      "[[0, 1, 0, 1, 0], [1, 0, 1, 0, 1], [0, 1, 0, 1, 0], [1, 0, 1, 0, 1], [0, 1, 0, 1, 0]]\n",
      "[[0. 1. 0. 1. 0.]\n",
      " [1. 0. 1. 0. 1.]\n",
      " [0. 1. 0. 1. 0.]\n",
      " [1. 0. 1. 0. 1.]\n",
      " [0. 1. 0. 1. 0.]]\n",
      "Execution time: 0.0 seconds\n",
      "Results are equal:True\n",
      "---------------------------\n",
      "\n"
     ]
    }
   ],
   "source": [
    "print(\"-----------task2-----------\")\n",
    "compare_time(task_2(5, 'default'), task_2(5, 'numpy'))\n",
    "print(\"---------------------------\\n\")"
   ]
  },
  {
   "cell_type": "code",
   "execution_count": 13,
   "metadata": {},
   "outputs": [
    {
     "name": "stdout",
     "output_type": "stream",
     "text": [
      "-----------task4-----------\n",
      "[[0, 1, 2], [0, 0, 0], [0, 0, 0], [0, 0, 0]]\n",
      "Execution time: 0.0 seconds\n",
      "[[0. 1. 2.]\n",
      " [0. 0. 0.]\n",
      " [0. 0. 0.]\n",
      " [0. 0. 0.]]\n",
      "Execution time: 0.0 seconds\n",
      "Results are equal:True\n",
      "---------------------------\n",
      "\n"
     ]
    }
   ],
   "source": [
    "print(\"-----------task4-----------\")\n",
    "compare_time(task_4(3, 4, 'default'), task_4(3, 4, 'numpy'))\n",
    "print(\"---------------------------\\n\")"
   ]
  },
  {
   "cell_type": "code",
   "execution_count": 14,
   "metadata": {},
   "outputs": [
    {
     "name": "stdout",
     "output_type": "stream",
     "text": [
      "-----------task7-----------\n",
      "[1, -1, 2, -1, 3, 0, 4]\n",
      "Execution time: 0.0 seconds\n",
      "[ 1 -1  2 -1  3 -1  4]\n",
      "Execution time: 0.0 seconds\n",
      "Results are equal:False\n",
      "---------------------------\n",
      "\n"
     ]
    }
   ],
   "source": [
    "print(\"-----------task7-----------\")\n",
    "compare_time(task_7([1,0,2,0,3,0,4], 'default'), task_7([1,0,2,0,3,0,4], 'numpy'))\n",
    "print(\"---------------------------\\n\")"
   ]
  },
  {
   "cell_type": "code",
   "execution_count": 15,
   "metadata": {},
   "outputs": [
    {
     "name": "stdout",
     "output_type": "stream",
     "text": [
      "-----------task8-----------\n",
      "[8, 3]\n",
      "Execution time: 0.0 seconds\n",
      "[8, 0]\n",
      "Execution time: 0.0005581378936767578 seconds\n",
      "Results are equal:False\n",
      "---------------------------\n",
      "\n"
     ]
    }
   ],
   "source": [
    "print(\"-----------task8-----------\")\n",
    "compare_time(task_8([3, 4, 0, 9, 8, 2, 4, 0, 8, 4, 0], 'default'), task_8([3, 4, 0, 9, 8, 2, 4, 0, 8, 4, 0], 'numpy'))\n",
    "print(\"---------------------------\\n\")"
   ]
  },
  {
   "cell_type": "code",
   "execution_count": 16,
   "metadata": {},
   "outputs": [
    {
     "name": "stdout",
     "output_type": "stream",
     "text": [
      "-----------task12-----------\n",
      "[[0, 0, 0, 0, 0], [0, 1, 1, 1, 0], [0, 1, 1, 1, 0], [0, 1, 1, 1, 0], [0, 0, 0, 0, 0]]\n",
      "Execution time: 0.0 seconds\n",
      "[[0. 0. 0. 0. 0.]\n",
      " [0. 1. 1. 1. 0.]\n",
      " [0. 1. 1. 1. 0.]\n",
      " [0. 1. 1. 1. 0.]\n",
      " [0. 0. 0. 0. 0.]]\n",
      "Execution time: 0.0 seconds\n",
      "Results are equal:True\n",
      "---------------------------\n",
      "\n"
     ]
    }
   ],
   "source": [
    "print(\"-----------task12-----------\")\n",
    "compare_time(task_12(5, 'default'), task_12(5, 'numpy'))\n",
    "print(\"---------------------------\\n\")"
   ]
  },
  {
   "cell_type": "code",
   "execution_count": 17,
   "metadata": {},
   "outputs": [
    {
     "name": "stdout",
     "output_type": "stream",
     "text": [
      "-----------task15-----------\n",
      "[[0, 1, 0, 1, 0], [0, 1, 0, 1, 0], [0, 1, 0, 1, 0], [0, 1, 0, 1, 0], [0, 1, 0, 1, 0]]\n",
      "Execution time: 0.0 seconds\n",
      "[[0. 1. 0. 1. 0.]\n",
      " [0. 1. 0. 1. 0.]\n",
      " [0. 1. 0. 1. 0.]\n",
      " [0. 1. 0. 1. 0.]\n",
      " [0. 1. 0. 1. 0.]]\n",
      "Execution time: 0.0 seconds\n",
      "Results are equal:True\n",
      "---------------------------\n",
      "\n"
     ]
    }
   ],
   "source": [
    "print(\"-----------task15-----------\")\n",
    "compare_time(task_15(5, 'default'), task_15(5, 'numpy'))\n",
    "print(\"---------------------------\\n\")"
   ]
  },
  {
   "cell_type": "code",
   "execution_count": 18,
   "metadata": {},
   "outputs": [
    {
     "name": "stdout",
     "output_type": "stream",
     "text": [
      "-----------task20-----------\n",
      "0.9087220821307619\n",
      "Execution time: 0.0 seconds\n",
      "0.8099008994237076\n",
      "Execution time: 0.0 seconds\n",
      "Results are equal:False\n",
      "---------------------------\n",
      "\n"
     ]
    }
   ],
   "source": [
    "print(\"-----------task20-----------\")\n",
    "compare_time(task_20(10, 'default'), task_20(10, 'numpy'))\n",
    "print(\"---------------------------\\n\")"
   ]
  },
  {
   "cell_type": "code",
   "execution_count": 19,
   "metadata": {},
   "outputs": [
    {
     "name": "stdout",
     "output_type": "stream",
     "text": [
      "Kramer's solutions: [-0.05, 2.95, -0.16, 2.32]\n",
      "Matrix multiplication result: [ 8.01  5.01 -1.   10.02]\n",
      "Inverted matrix result: [-0.05263158  2.94736842 -0.15789474  2.31578947]\n",
      "Solve function result: [-0.05263158  2.94736842 -0.15789474  2.31578947]\n",
      "Are all solutions equal? False\n"
     ]
    }
   ],
   "source": [
    "coefficients = np.array([[1, 2, 1, 1], [2, 1, 1, 1], [1, -1, 2, 1], [1, 1, -1, 3]])\n",
    "constants = np.array([8, 5, -1, 10])\n",
    "determinant = np.linalg.det(coefficients)\n",
    "\n",
    "if determinant != 0:\n",
    "    solutions = []\n",
    "    for i in range(coefficients.shape[1]):\n",
    "        temp = coefficients.copy()\n",
    "        temp[:, i] = constants\n",
    "        solutions.append(round(np.linalg.det(temp) / determinant, 2))\n",
    "    print(\"Kramer's solutions:\", solutions)\n",
    "\n",
    "    mm_result = np.dot(coefficients, solutions)\n",
    "    print(\"Matrix multiplication result:\", mm_result)\n",
    "    \n",
    "    inv_result = np.dot(np.linalg.inv(coefficients), constants)\n",
    "    print(\"Inverted matrix result:\", inv_result)\n",
    "    solve_result = np.linalg.solve(coefficients, constants)\n",
    "    print(\"Solve function result:\", solve_result)\n",
    "    \n",
    "    print(\"Are all solutions equal?\", np.allclose(solutions, inv_result) and np.allclose(solutions, solve_result) and np.allclose(inv_result, solve_result))\n",
    "else:\n",
    "    print(\"The system of equations has no unique solutions.\")\n"
   ]
  },
  {
   "cell_type": "code",
   "execution_count": 20,
   "metadata": {},
   "outputs": [
    {
     "name": "stdout",
     "output_type": "stream",
     "text": [
      "[[ 138   88   68]\n",
      " [-154 -100  -78]\n",
      " [ -14  -16  -12]]\n",
      "Execution time: 0.0 seconds\n",
      "[[ 138.   88.   68.]\n",
      " [-154. -100.  -78.]\n",
      " [ -14.  -16.  -12.]]\n",
      "Execution time: 0.008045196533203125 seconds\n",
      "Results are equal:True\n"
     ]
    }
   ],
   "source": [
    "def multiply(A, B):\n",
    "    m, n = A.shape\n",
    "    n, p = B.shape\n",
    "    C = np.zeros((m, p))\n",
    "    for i in range(m):\n",
    "        for j in range(p):\n",
    "            for k in range(n):\n",
    "                C[i][j] += A[i][k] * B[k][j]\n",
    "    return C\n",
    "\n",
    "\n",
    "def add(A, B):\n",
    "    m, n = A.shape\n",
    "    C = np.zeros((m, n))\n",
    "    for i in range(m):\n",
    "        for j in range(n):\n",
    "                C[i][j] += A[i][j] + B[i][j]\n",
    "    return C\n",
    "\n",
    "\n",
    "def subtract(A, B):\n",
    "    m, n = A.shape\n",
    "    C = np.zeros((m, n))\n",
    "    for i in range(m):\n",
    "        for j in range(n):\n",
    "                C[i][j] += A[i][j] - B[i][j]\n",
    "    return C\n",
    "\n",
    "A = np.array([[7, 2, 0], [-7, -2, 1], [1, 1, 0]])\n",
    "B = np.array([[0, 2, 3], [1, 0, -2], [3, 1, 1]])\n",
    "\n",
    "start = time.time()\n",
    "\n",
    "result1 = np.dot(np.subtract(np.linalg.matrix_power(A, 2), np.linalg.matrix_power(B, 2)), np.add(A, B))\n",
    "\n",
    "end = time.time()\n",
    "\n",
    "print(result1)\n",
    "print(f\"Execution time: {end - start} seconds\")\n",
    "\n",
    "start = time.time()\n",
    "\n",
    "result2 = multiply(subtract(multiply(A, A), multiply(B, B)), add(A, B))\n",
    "\n",
    "end = time.time()\n",
    "\n",
    "print(result2)\n",
    "print(f\"Execution time: {end - start} seconds\")\n",
    "\n",
    "print(f\"Results are equal:{np.allclose(result1, result2)}\")"
   ]
  },
  {
   "cell_type": "code",
   "execution_count": null,
   "metadata": {},
   "outputs": [],
   "source": []
  }
 ],
 "metadata": {
  "kernelspec": {
   "display_name": "Python 3",
   "language": "python",
   "name": "python3"
  },
  "language_info": {
   "codemirror_mode": {
    "name": "ipython",
    "version": 3
   },
   "file_extension": ".py",
   "mimetype": "text/x-python",
   "name": "python",
   "nbconvert_exporter": "python",
   "pygments_lexer": "ipython3",
   "version": "3.12.2"
  }
 },
 "nbformat": 4,
 "nbformat_minor": 2
}
