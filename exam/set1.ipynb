{
  "cells": [
    {
      "cell_type": "code",
      "execution_count": 3,
      "metadata": {
        "id": "SqwG8RlXnbVz"
      },
      "outputs": [],
      "source": [
        "import pandas as pd\n",
        "\n",
        "df = pd.read_csv('./Expanded_data_with_more_features.csv')"
      ]
    },
    {
      "cell_type": "code",
      "execution_count": 4,
      "metadata": {
        "colab": {
          "base_uri": "https://localhost:8080/"
        },
        "id": "xaBEUOcPo0xu",
        "outputId": "bc80e7f9-9700-4379-ea7b-e525d9ae4caa"
      },
      "outputs": [
        {
          "data": {
            "text/plain": [
              "Index(['Unnamed: 0', 'Gender', 'EthnicGroup', 'ParentEduc', 'LunchType',\n",
              "       'TestPrep', 'ParentMaritalStatus', 'PracticeSport', 'IsFirstChild',\n",
              "       'NrSiblings', 'TransportMeans', 'WklyStudyHours', 'MathScore',\n",
              "       'ReadingScore', 'WritingScore'],\n",
              "      dtype='object')"
            ]
          },
          "execution_count": 4,
          "metadata": {},
          "output_type": "execute_result"
        }
      ],
      "source": [
        "df.columns"
      ]
    },
    {
      "cell_type": "code",
      "execution_count": 5,
      "metadata": {
        "colab": {
          "base_uri": "https://localhost:8080/",
          "height": 300
        },
        "id": "CxWLAolRozuk",
        "outputId": "252da35b-5e36-4a88-930a-61cd2b116c08"
      },
      "outputs": [
        {
          "data": {
            "text/html": [
              "<div>\n",
              "<style scoped>\n",
              "    .dataframe tbody tr th:only-of-type {\n",
              "        vertical-align: middle;\n",
              "    }\n",
              "\n",
              "    .dataframe tbody tr th {\n",
              "        vertical-align: top;\n",
              "    }\n",
              "\n",
              "    .dataframe thead th {\n",
              "        text-align: right;\n",
              "    }\n",
              "</style>\n",
              "<table border=\"1\" class=\"dataframe\">\n",
              "  <thead>\n",
              "    <tr style=\"text-align: right;\">\n",
              "      <th></th>\n",
              "      <th>Unnamed: 0</th>\n",
              "      <th>NrSiblings</th>\n",
              "      <th>MathScore</th>\n",
              "      <th>ReadingScore</th>\n",
              "      <th>WritingScore</th>\n",
              "    </tr>\n",
              "  </thead>\n",
              "  <tbody>\n",
              "    <tr>\n",
              "      <th>count</th>\n",
              "      <td>30641.000000</td>\n",
              "      <td>29069.000000</td>\n",
              "      <td>30641.000000</td>\n",
              "      <td>30641.000000</td>\n",
              "      <td>30641.000000</td>\n",
              "    </tr>\n",
              "    <tr>\n",
              "      <th>mean</th>\n",
              "      <td>499.556607</td>\n",
              "      <td>2.145894</td>\n",
              "      <td>66.558402</td>\n",
              "      <td>69.377533</td>\n",
              "      <td>68.418622</td>\n",
              "    </tr>\n",
              "    <tr>\n",
              "      <th>std</th>\n",
              "      <td>288.747894</td>\n",
              "      <td>1.458242</td>\n",
              "      <td>15.361616</td>\n",
              "      <td>14.758952</td>\n",
              "      <td>15.443525</td>\n",
              "    </tr>\n",
              "    <tr>\n",
              "      <th>min</th>\n",
              "      <td>0.000000</td>\n",
              "      <td>0.000000</td>\n",
              "      <td>0.000000</td>\n",
              "      <td>10.000000</td>\n",
              "      <td>4.000000</td>\n",
              "    </tr>\n",
              "    <tr>\n",
              "      <th>25%</th>\n",
              "      <td>249.000000</td>\n",
              "      <td>1.000000</td>\n",
              "      <td>56.000000</td>\n",
              "      <td>59.000000</td>\n",
              "      <td>58.000000</td>\n",
              "    </tr>\n",
              "    <tr>\n",
              "      <th>50%</th>\n",
              "      <td>500.000000</td>\n",
              "      <td>2.000000</td>\n",
              "      <td>67.000000</td>\n",
              "      <td>70.000000</td>\n",
              "      <td>69.000000</td>\n",
              "    </tr>\n",
              "    <tr>\n",
              "      <th>75%</th>\n",
              "      <td>750.000000</td>\n",
              "      <td>3.000000</td>\n",
              "      <td>78.000000</td>\n",
              "      <td>80.000000</td>\n",
              "      <td>79.000000</td>\n",
              "    </tr>\n",
              "    <tr>\n",
              "      <th>max</th>\n",
              "      <td>999.000000</td>\n",
              "      <td>7.000000</td>\n",
              "      <td>100.000000</td>\n",
              "      <td>100.000000</td>\n",
              "      <td>100.000000</td>\n",
              "    </tr>\n",
              "  </tbody>\n",
              "</table>\n",
              "</div>"
            ],
            "text/plain": [
              "         Unnamed: 0    NrSiblings     MathScore  ReadingScore  WritingScore\n",
              "count  30641.000000  29069.000000  30641.000000  30641.000000  30641.000000\n",
              "mean     499.556607      2.145894     66.558402     69.377533     68.418622\n",
              "std      288.747894      1.458242     15.361616     14.758952     15.443525\n",
              "min        0.000000      0.000000      0.000000     10.000000      4.000000\n",
              "25%      249.000000      1.000000     56.000000     59.000000     58.000000\n",
              "50%      500.000000      2.000000     67.000000     70.000000     69.000000\n",
              "75%      750.000000      3.000000     78.000000     80.000000     79.000000\n",
              "max      999.000000      7.000000    100.000000    100.000000    100.000000"
            ]
          },
          "execution_count": 5,
          "metadata": {},
          "output_type": "execute_result"
        }
      ],
      "source": [
        "df.describe()"
      ]
    },
    {
      "cell_type": "code",
      "execution_count": 6,
      "metadata": {
        "colab": {
          "base_uri": "https://localhost:8080/"
        },
        "id": "0JHFkSEMoxjd",
        "outputId": "b13aa635-ee57-48c2-c1db-f42966b74ac5"
      },
      "outputs": [
        {
          "data": {
            "text/plain": [
              "Gender\n",
              "female    15424\n",
              "male      15217\n",
              "Name: Gender, dtype: int64"
            ]
          },
          "execution_count": 6,
          "metadata": {},
          "output_type": "execute_result"
        }
      ],
      "source": [
        "# Скільки студентів і студенток у наборі даних?\n",
        "\n",
        "df.groupby([\"Gender\"])['Gender'].count()"
      ]
    },
    {
      "cell_type": "code",
      "execution_count": 7,
      "metadata": {
        "colab": {
          "base_uri": "https://localhost:8080/"
        },
        "id": "nQd-3Npxou2z",
        "outputId": "0e1ff0af-a56b-42da-f794-cb5383d7b97e"
      },
      "outputs": [
        {
          "data": {
            "text/plain": [
              "49.6622172905584"
            ]
          },
          "execution_count": 7,
          "metadata": {},
          "output_type": "execute_result"
        }
      ],
      "source": [
        "#  Який відсоток студентів чоловічої статі в наборі даних\n",
        "male = df.query('Gender == \"male\"')['Gender'].count()\n",
        "female = df.query('Gender == \"female\"')['Gender'].count()\n",
        "male / (male + female) * 100"
      ]
    },
    {
      "cell_type": "code",
      "execution_count": 8,
      "metadata": {
        "colab": {
          "base_uri": "https://localhost:8080/"
        },
        "id": "KgCMWRuEorO2",
        "outputId": "10ab828d-237e-4058-f4d1-503a975bdf4c"
      },
      "outputs": [
        {
          "data": {
            "text/plain": [
              "50.337782709441605"
            ]
          },
          "execution_count": 8,
          "metadata": {},
          "output_type": "execute_result"
        }
      ],
      "source": [
        "# Який відсоток студенток у наборі даних?\n",
        "\n",
        "male = df.query('Gender == \"male\"')['Gender'].count()\n",
        "female = df.query('Gender == \"female\"')['Gender'].count()\n",
        "female / (male + female) * 100"
      ]
    },
    {
      "cell_type": "code",
      "execution_count": 9,
      "metadata": {
        "colab": {
          "base_uri": "https://localhost:8080/"
        },
        "id": "y8u4Llc0oohT",
        "outputId": "6ebc1195-2cdc-4986-c5e6-746e3d896f01"
      },
      "outputs": [
        {
          "data": {
            "text/plain": [
              "EthnicGroup\n",
              "group E    75.298936\n",
              "Name: MathScore, dtype: float64"
            ]
          },
          "execution_count": 9,
          "metadata": {},
          "output_type": "execute_result"
        }
      ],
      "source": [
        "# Яка етнічна група має найвищий середній бал з математики?\n",
        "\n",
        "df.groupby('EthnicGroup')[\"MathScore\"].mean().sort_values(ascending=False)[:1]"
      ]
    },
    {
      "cell_type": "code",
      "execution_count": 10,
      "metadata": {
        "colab": {
          "base_uri": "https://localhost:8080/"
        },
        "id": "lB8RnC9_olPL",
        "outputId": "d5277e7a-3015-4f96-c32a-c0d1b56b3d0a"
      },
      "outputs": [
        {
          "data": {
            "text/plain": [
              "EthnicGroup\n",
              "group E    74.251423\n",
              "Name: ReadingScore, dtype: float64"
            ]
          },
          "execution_count": 10,
          "metadata": {},
          "output_type": "execute_result"
        }
      ],
      "source": [
        "# Яка етнічна група має найвищий середній бал читання?\n",
        "\n",
        "df.groupby('EthnicGroup')[\"ReadingScore\"].mean().sort_values(ascending=False)[:1]"
      ]
    },
    {
      "cell_type": "code",
      "execution_count": 11,
      "metadata": {
        "colab": {
          "base_uri": "https://localhost:8080/"
        },
        "id": "F2N8DSmSojSq",
        "outputId": "161263ba-4bc6-4052-9dd3-af79d132f57a"
      },
      "outputs": [
        {
          "data": {
            "text/plain": [
              "EthnicGroup\n",
              "group E    72.67706\n",
              "Name: WritingScore, dtype: float64"
            ]
          },
          "execution_count": 11,
          "metadata": {},
          "output_type": "execute_result"
        }
      ],
      "source": [
        "# Яка етнічна група має найвищий середній бал з письма?\n",
        "\n",
        "df.groupby('EthnicGroup')[\"WritingScore\"].mean().sort_values(ascending=False)[:1]"
      ]
    },
    {
      "cell_type": "code",
      "execution_count": 12,
      "metadata": {
        "colab": {
          "base_uri": "https://localhost:8080/"
        },
        "id": "izgLoo1Foc_U",
        "outputId": "f2b59567-c769-4e92-d502-1cf1790a5762"
      },
      "outputs": [
        {
          "data": {
            "text/plain": [
              "69.5466599698644"
            ]
          },
          "execution_count": 12,
          "metadata": {},
          "output_type": "execute_result"
        }
      ],
      "source": [
        "#  Який середній бал з математики для студентів, які закінчили курс підготовки до тесту?\n",
        "\n",
        "df.query(\"TestPrep == 'completed'\")[\"MathScore\"].mean()"
      ]
    },
    {
      "cell_type": "code",
      "execution_count": 13,
      "metadata": {
        "colab": {
          "base_uri": "https://localhost:8080/"
        },
        "id": "_2rqFYV2oZ8_",
        "outputId": "b2fcd629-6adc-4758-d569-2e990c2e524e"
      },
      "outputs": [
        {
          "data": {
            "text/plain": [
              "73.73299849321948"
            ]
          },
          "execution_count": 13,
          "metadata": {},
          "output_type": "execute_result"
        }
      ],
      "source": [
        "# Який середній бал з читання для студентів, які пройшли курс підготовки до тесту?\n",
        "\n",
        "df.query(\"TestPrep == 'completed'\")[\"ReadingScore\"].mean()"
      ]
    },
    {
      "cell_type": "code",
      "execution_count": 14,
      "metadata": {
        "colab": {
          "base_uri": "https://localhost:8080/"
        },
        "id": "Nn0snOZ9puO0",
        "outputId": "8c400337-05e7-41dc-bec6-78b18589621a"
      },
      "outputs": [
        {
          "data": {
            "text/plain": [
              "72.66097438473129"
            ]
          },
          "execution_count": 14,
          "metadata": {},
          "output_type": "execute_result"
        }
      ],
      "source": [
        "# Який середній бал для студентів, які закінчили курс підготовки до тесту?\n",
        "df['MeanTestsScore'] = (df['MathScore'] + df['ReadingScore'] + df['WritingScore'])/3\n",
        "\n",
        "df.query(\"TestPrep == 'completed'\")[\"MeanTestsScore\"].mean()"
      ]
    },
    {
      "cell_type": "code",
      "execution_count": 15,
      "metadata": {
        "colab": {
          "base_uri": "https://localhost:8080/"
        },
        "id": "IZ7D_RhboUjL",
        "outputId": "f442b3b1-c249-48c9-90b2-7f6bebafa9d8"
      },
      "outputs": [
        {
          "data": {
            "text/plain": [
              "16844"
            ]
          },
          "execution_count": 15,
          "metadata": {},
          "output_type": "execute_result"
        }
      ],
      "source": [
        "# Скільки студентів мають одружених батьків?\n",
        "\n",
        "df.query(\"ParentMaritalStatus == 'married'\").count()['ParentMaritalStatus']"
      ]
    },
    {
      "cell_type": "code",
      "execution_count": 16,
      "metadata": {
        "colab": {
          "base_uri": "https://localhost:8080/"
        },
        "id": "8M6_tXxKoPg0",
        "outputId": "0084b301-a0c9-4f1b-d6ca-4ecf09c38da9"
      },
      "outputs": [
        {
          "data": {
            "text/plain": [
              "7097"
            ]
          },
          "execution_count": 16,
          "metadata": {},
          "output_type": "execute_result"
        }
      ],
      "source": [
        "# Скільки студентів мають батьків-одинаків?\n",
        "\n",
        "df.query(\"ParentMaritalStatus == 'single'\").count()['ParentMaritalStatus']"
      ]
    },
    {
      "cell_type": "code",
      "execution_count": 17,
      "metadata": {
        "colab": {
          "base_uri": "https://localhost:8080/"
        },
        "id": "NsADJPCZoSQF",
        "outputId": "a8b274ee-b8fd-4f1c-9fea-1a6452005256"
      },
      "outputs": [
        {
          "data": {
            "text/plain": [
              "True"
            ]
          },
          "execution_count": 17,
          "metadata": {},
          "output_type": "execute_result"
        }
      ],
      "source": [
        "# Чи студенти, які регулярно займаються спортом, мають вищі середні результати з математики, \n",
        "#ніж ті, хто ніколи не       займається спортом?\n",
        "\n",
        "reg = df.query(\"PracticeSport == 'regularly'\")[\"MathScore\"].mean()\n",
        "nev = df.query(\"PracticeSport == 'never'\")[\"MathScore\"].mean()\n",
        "reg > nev"
      ]
    },
    {
      "cell_type": "code",
      "execution_count": 18,
      "metadata": {
        "colab": {
          "base_uri": "https://localhost:8080/"
        },
        "id": "CvlrswAapYD1",
        "outputId": "af2aa8be-9ee8-4b42-9efb-fe12804a9b9f"
      },
      "outputs": [
        {
          "data": {
            "text/plain": [
              "True"
            ]
          },
          "execution_count": 18,
          "metadata": {},
          "output_type": "execute_result"
        }
      ],
      "source": [
        "# Чи студенти, які регулярно займаються спортом, \n",
        "# мають вищі середні результати читання, ніж ті, хто ніколи не займається спортом?\n",
        "\n",
        "reg = df.query(\"PracticeSport == 'regularly'\")[\"ReadingScore\"].mean()\n",
        "nev = df.query(\"PracticeSport == 'never'\")[\"ReadingScore\"].mean()\n",
        "reg > nev"
      ]
    },
    {
      "cell_type": "code",
      "execution_count": 19,
      "metadata": {
        "colab": {
          "base_uri": "https://localhost:8080/"
        },
        "id": "UCBKiym7pYLD",
        "outputId": "4a1ebac9-d1a8-427a-929a-5da3eaacd80d"
      },
      "outputs": [
        {
          "data": {
            "text/plain": [
              "16145"
            ]
          },
          "execution_count": 19,
          "metadata": {},
          "output_type": "execute_result"
        }
      ],
      "source": [
        "# Скільки учнів користується шкільним автобусом, щоб дістатися до школи?\n",
        "\n",
        "df.query('TransportMeans == \"school_bus\"')['TransportMeans'].count()"
      ]
    },
    {
      "cell_type": "code",
      "execution_count": 20,
      "metadata": {
        "colab": {
          "base_uri": "https://localhost:8080/"
        },
        "id": "NHkuJSnopl1S",
        "outputId": "b6df9281-f019-41be-f738-be6214703590"
      },
      "outputs": [
        {
          "data": {
            "text/plain": [
              "11362"
            ]
          },
          "execution_count": 20,
          "metadata": {},
          "output_type": "execute_result"
        }
      ],
      "source": [
        "# Скільки учнів користується приватним транспортом, щоб дістатися до шк\n",
        "\n",
        "df.query('TransportMeans == \"private\"')['TransportMeans'].count()"
      ]
    }
  ],
  "metadata": {
    "colab": {
      "provenance": []
    },
    "kernelspec": {
      "display_name": "Python 3",
      "name": "python3"
    },
    "language_info": {
      "codemirror_mode": {
        "name": "ipython",
        "version": 3
      },
      "file_extension": ".py",
      "mimetype": "text/x-python",
      "name": "python",
      "nbconvert_exporter": "python",
      "pygments_lexer": "ipython3",
      "version": "3.10.7"
    }
  },
  "nbformat": 4,
  "nbformat_minor": 0
}
